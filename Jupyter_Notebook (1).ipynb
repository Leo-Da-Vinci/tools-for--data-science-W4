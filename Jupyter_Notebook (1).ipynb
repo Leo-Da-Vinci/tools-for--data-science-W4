{
 "cells": [
  {
   "cell_type": "markdown",
   "metadata": {},
   "source": [
    "<center>\n",
    "    <img src=\"https://cf-courses-data.s3.us.cloud-object-storage.appdomain.cloud/IBMDeveloperSkillsNetwork-DS0105EN-SkillsNetwork/labs/Module2/images/SN_web_lightmode.png\" width=\"300\" alt=\"cognitiveclass.ai logo\">\n",
    "</center>\n"
   ]
  },
  {
   "cell_type": "markdown",
   "metadata": {},
   "source": [
    "#### Add your code below following the instructions given in the course\n"
   ]
  },
  {
   "cell_type": "markdown",
   "metadata": {},
   "source": [
    "# My Jupyter Notebook on IBM Watson Studio"
   ]
  },
  {
   "cell_type": "markdown",
   "metadata": {},
   "source": [
    "**Josue Olaverri**  \n",
    "Research Associate"
   ]
  },
  {
   "cell_type": "markdown",
   "metadata": {},
   "source": [
    "I just think data is a very powerful resource, specially with the amounts were are able to collect nowadays. Being able to mine it, transform it, read it and share it will be of huge help in the next decade of technological transformation."
   ]
  },
  {
   "cell_type": "markdown",
   "metadata": {},
   "source": [
    "### Code will print a count until i equals 8"
   ]
  },
  {
   "cell_type": "code",
   "execution_count": 3,
   "metadata": {},
   "outputs": [
    {
     "name": "stdout",
     "output_type": "stream",
     "text": [
      "5\n",
      "6\n",
      "7\n",
      "8\n"
     ]
    }
   ],
   "source": [
    "i = 4\n",
    "while i < 8:\n",
    "    i = i + 1\n",
    "    print(i)"
   ]
  },
  {
   "cell_type": "markdown",
   "metadata": {},
   "source": [
    "<hr>\n",
    "\n",
    "## Primary colors:  \n",
    "- Red\n",
    "- Blue\n",
    "- Yellow  \n",
    "\n",
    "## Best NBA players:  \n",
    "1. LeBron James\n",
    "2. Michael Jordan\n",
    "3. Kareem Abdul-Jabbar  \n",
    "  \n",
    "## Best video of all time:\n",
    "[Click me](https://www.youtube.com/watch?v=dQw4w9WgXcQ)  \n",
    "  \n",
    "|Ice cream flavors|Rating|Paired best with|\n",
    "|:----------------|------|:--------------:|\n",
    "|Vanilla|10|Fudge|\n",
    "|Chocolate|9|Almonds|\n",
    "|Strawberry|8.3|Mint|\n",
    "  \n",
    "  \n",
    "![Cats](https://th.bing.com/th/id/R.6e5dd77e9786e52a6a8cd2091e3585b0?rik=X%2fCj4nnedeQOfA&pid=ImgRaw&r=0)\n",
    "  \n",
    "\n",
    " <blockquote>Isn't this cool?</blockquote>\n",
    "   \n",
    "  \n",
    "`This may be important later`\n",
    "\n",
    "<s>Strike, Strike, Strike... You out!!</s>\n"
   ]
  },
  {
   "cell_type": "code",
   "execution_count": null,
   "metadata": {},
   "outputs": [],
   "source": []
  },
  {
   "cell_type": "code",
   "execution_count": null,
   "metadata": {},
   "outputs": [],
   "source": []
  }
 ],
 "metadata": {
  "kernelspec": {
   "display_name": "Python",
   "language": "python",
   "name": "conda-env-python-py"
  },
  "language_info": {
   "codemirror_mode": {
    "name": "ipython",
    "version": 3
   },
   "file_extension": ".py",
   "mimetype": "text/x-python",
   "name": "python",
   "nbconvert_exporter": "python",
   "pygments_lexer": "ipython3",
   "version": "3.7.12"
  }
 },
 "nbformat": 4,
 "nbformat_minor": 4
}
