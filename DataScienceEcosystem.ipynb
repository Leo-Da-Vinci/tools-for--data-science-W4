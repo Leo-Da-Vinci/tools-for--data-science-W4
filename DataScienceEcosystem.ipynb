{
 "cells": [
  {
   "cell_type": "markdown",
   "metadata": {
    "collapsed": true
   },
   "source": [
    "# Data Science Tools and Ecosystem"
   ]
  },
  {
   "cell_type": "markdown",
   "metadata": {},
   "source": [
    "In this notebook, Data Science Tools and Ecosystem are summarized. It is meant to be graded by my peers and hopefully, you feel I made a decent enough job to pass... Like common, give me that A++."
   ]
  },
  {
   "cell_type": "markdown",
   "metadata": {},
   "source": [
    "### Data Science Languages  \n",
    "\n",
    "Some of the popular languages that Data Scientists use are:  \n",
    "  \n",
    "- Python\n",
    "- R\n",
    "- JavaScript\n",
    "- Java\n",
    "- C/C++\n",
    "- SQL\n",
    "- Scala\n",
    "- Julia"
   ]
  },
  {
   "cell_type": "markdown",
   "metadata": {},
   "source": [
    "### Data Science Libraries  \n",
    "\n",
    "Some of the commonly used libraries used by Data Scientists include:\n",
    "  \n",
    "- NumPy\n",
    "- Pandas\n",
    "- SciKit-Learn\n",
    "- Matplotlib\n",
    "- TensorFlow\n",
    "- Scrapy\n",
    "- BeautifulSoup"
   ]
  },
  {
   "cell_type": "markdown",
   "metadata": {},
   "source": [
    "### Data Science Tools\n",
    "\n",
    "|Category|Tool|\n",
    "|:------:|:--:|\n",
    "|Cloud Based|BigML|\n",
    "|Cloud Based|Google Analytics|\n",
    "|Cloud Based|Jupyter Notebooks|\n",
    "|Visualization|Matplotlib|\n",
    "|Visualization|Tableau|\n",
    "|ML and NLP|Scikit Learn|\n",
    "|ML and NLP|TensorFlow|\n",
    "|ML and NLP|NLTK|\n",
    "|ML and NLP|Watson|\n",
    "|Big Data|Apache Hadoop|\n",
    "|BI|Power BI|\n",
    "|BI|QlikView|\n",
    "\n"
   ]
  },
  {
   "cell_type": "markdown",
   "metadata": {},
   "source": [
    "###  Introducing Arithmetic Expression Examples  \n",
    "\n",
    "Below are a few examples of evaluating arithmetic expressions in Python."
   ]
  },
  {
   "cell_type": "markdown",
   "metadata": {},
   "source": [
    "#### Multyplication and addition\n",
    "\n",
    "*This a simple arithmetic expression to mutiply then add integers*"
   ]
  },
  {
   "cell_type": "code",
   "execution_count": 17,
   "metadata": {},
   "outputs": [
    {
     "name": "stdout",
     "output_type": "stream",
     "text": [
      "The number you are thinking of is 17\n"
     ]
    }
   ],
   "source": [
    "#multiply and add numbers\n",
    "print('The number you are thinking of is', (3*4)+5)"
   ]
  },
  {
   "cell_type": "markdown",
   "metadata": {},
   "source": [
    "#### Convertion from minutes to hours\n",
    "\n",
    "*This will convert 200 minutes to hours by diving by 60*\n"
   ]
  },
  {
   "cell_type": "code",
   "execution_count": 18,
   "metadata": {},
   "outputs": [
    {
     "name": "stdout",
     "output_type": "stream",
     "text": [
      "You should be there in  3.3333333333333335 hours\n"
     ]
    }
   ],
   "source": [
    "# Minutes to hours\n",
    "print('You should be there in ', 200/60, 'hours')\n"
   ]
  },
  {
   "cell_type": "markdown",
   "metadata": {},
   "source": [
    "### Objectives  \n",
    "  \n",
    "- <b>Creating a Jupyter Notebook.</b>\n",
    "- <b>List popular languages for Data Science</b>\n",
    "- <b>Share the work</b>  \n"
   ]
  },
  {
   "cell_type": "markdown",
   "metadata": {},
   "source": [
    "## Author\n",
    "Josue Olaverri"
   ]
  }
 ],
 "metadata": {
  "kernelspec": {
   "display_name": "Python 3.10",
   "language": "python",
   "name": "python3"
  },
  "language_info": {
   "codemirror_mode": {
    "name": "ipython",
    "version": 3
   },
   "file_extension": ".py",
   "mimetype": "text/x-python",
   "name": "python",
   "nbconvert_exporter": "python",
   "pygments_lexer": "ipython3",
   "version": "3.10.9"
  }
 },
 "nbformat": 4,
 "nbformat_minor": 1
}
